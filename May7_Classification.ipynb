{
 "cells": [
  {
   "cell_type": "markdown",
   "metadata": {},
   "source": [
    "## Classification"
   ]
  },
  {
   "cell_type": "code",
   "execution_count": 4,
   "metadata": {},
   "outputs": [],
   "source": [
    "import pandas as pd\n",
    "import matplotlib.pyplot as plt"
   ]
  },
  {
   "cell_type": "code",
   "execution_count": 5,
   "metadata": {
    "scrolled": false
   },
   "outputs": [],
   "source": [
    "patdf = pd.read_csv(\"Patient_withRUCA_withage.csv\")\n",
    "#patdf.head(3)"
   ]
  },
  {
   "cell_type": "code",
   "execution_count": 6,
   "metadata": {},
   "outputs": [
    {
     "name": "stdout",
     "output_type": "stream",
     "text": [
      "Index(['Unnamed: 0', 'MRN', 'DOB', 'Age', 'Gender', 'Race/Ethnicity',\n",
      "       'Address', 'City', 'Zipcode', 'Cancer Diagnosis (ICD-10)', 'Stage',\n",
      "       'Clinical Trial Participant', 'Tobacco Use', 'Census Tract', 'County',\n",
      "       'Cancer Description', 'FIPS', 'RUCA'],\n",
      "      dtype='object')\n"
     ]
    }
   ],
   "source": [
    "'''\n",
    "Dropping unneccessary columns\n",
    "'''\n",
    "print(patdf.columns)\n",
    "patdf = patdf.drop(columns= [\"Unnamed: 0\", \"MRN\", \"Address\", \"City\", \"Zipcode\", \"Cancer Diagnosis (ICD-10)\",\n",
    "                             \"FIPS\", \"County\", \"Census Tract\", \"DOB\"])\n",
    "#patdf.head()"
   ]
  },
  {
   "cell_type": "markdown",
   "metadata": {},
   "source": [
    "## Pre-processing for classificaiton"
   ]
  },
  {
   "cell_type": "code",
   "execution_count": 7,
   "metadata": {},
   "outputs": [
    {
     "name": "stdout",
     "output_type": "stream",
     "text": [
      "Shape before filtering based on cancers (8972, 8)\n",
      "Shape after filtering based on cancers (5420, 8)\n",
      "Shape before dropping null RUCA (5420, 8)\n",
      "Shape after dropping null RUCA (3446, 8)\n"
     ]
    }
   ],
   "source": [
    "\"\"\"\n",
    "2. Keep rows with only certain cancer diagnoses\n",
    "1. Drop rows with missing values for RUCA\n",
    "3. Refine Race/Ethnicity column\n",
    "\"\"\"\n",
    "\n",
    "#Keep rows with only certain cancer diagnoses\n",
    "Keep = [\"Esophageal cancer\", \"Gastric cancer\", \n",
    "        \"Colorectal cancer\", \"Pancreatic cancer\",\"Head and neck cancer\",\n",
    "        \"Lung cancer\", \"Breast cancer\", \"Prostate cancer\",\n",
    "        \"Urothelial/bladder cancer\", \"Kidney cancer\", \"Thyroid cancer\"]\n",
    "print(\"Shape before filtering based on cancers\",patdf.shape)\n",
    "patdf = patdf[patdf[\"Cancer Description\"].isin(Keep)]\n",
    "print(\"Shape after filtering based on cancers\",patdf.shape)\n",
    "\n",
    "\n",
    "#Dropping RUCA NaNs\n",
    "print(\"Shape before dropping null RUCA\", patdf.shape)\n",
    "patdf = patdf[patdf[\"RUCA\"].notnull()]\n",
    "print(\"Shape after dropping null RUCA\", patdf.shape)\n",
    "\n",
    "\n",
    "#Refining Race/Ethnicity Column\n",
    "patdf[\"Race/Ethnicity\"] = patdf[\"Race/Ethnicity\"].replace(to_replace = \n",
    "                                                          [\"African American\",\"Other\",\"Asian\",\n",
    "                                                           \"Native Hawaiian or Other Pacific Islander\",\n",
    "                                                          \"American Indian or Alaskan Native\"],\n",
    "                                                          value=\"Non-White\")\n",
    "\n",
    "#patdf.head()"
   ]
  },
  {
   "cell_type": "code",
   "execution_count": 8,
   "metadata": {},
   "outputs": [
    {
     "data": {
      "text/plain": [
       "'\\nDiscretize age into: [18-40, 40-60, 60-80, 80+]\\nCompare result with continous age vairable\\nFor now, use continous age.\\n'"
      ]
     },
     "execution_count": 8,
     "metadata": {},
     "output_type": "execute_result"
    }
   ],
   "source": [
    "'''\n",
    "Discretize age into: [18-40, 40-60, 60-80, 80+]\n",
    "Compare result with continous age vairable\n",
    "For now, use continous age.\n",
    "'''\n",
    "# def discretizeage(df):\n",
    "#     agestr = df.loc[index,\"DOB\"]\n",
    "#     year = int(agestr.split(\"/\")[2])\n",
    "#     if (year>=20 and year<=40):\n",
    "#         df.loc[index,\"DOB\"] = \"80+\"\n",
    "#     elif (year>40 and year<=60):\n",
    "#         df.loc[index,\"DOB\"] = \"60-80\"\n",
    "#     elif (year>60 and year<=80):\n",
    "#         df.loc[index,\"DOB\"] = \"40-60\"\n",
    "#     else:\n",
    "#         df.loc[index,\"DOB\"] = \"18-40\"\n",
    "\n",
    "# for index,row in patdf.iterrows():\n",
    "#     discretizeage(patdf)\n",
    "# print(patdf[\"DOB\"].value_counts())\n",
    "# patdf = patdf.rename(columns={\"DOB\":\"Age\"})"
   ]
  },
  {
   "cell_type": "code",
   "execution_count": 9,
   "metadata": {},
   "outputs": [
    {
     "data": {
      "text/html": [
       "<div>\n",
       "<style scoped>\n",
       "    .dataframe tbody tr th:only-of-type {\n",
       "        vertical-align: middle;\n",
       "    }\n",
       "\n",
       "    .dataframe tbody tr th {\n",
       "        vertical-align: top;\n",
       "    }\n",
       "\n",
       "    .dataframe thead th {\n",
       "        text-align: right;\n",
       "    }\n",
       "</style>\n",
       "<table border=\"1\" class=\"dataframe\">\n",
       "  <thead>\n",
       "    <tr style=\"text-align: right;\">\n",
       "      <th></th>\n",
       "      <th>Age</th>\n",
       "      <th>Gender</th>\n",
       "      <th>Stage</th>\n",
       "      <th>RUCA</th>\n",
       "      <th>Tobacco Use_Current Smoker</th>\n",
       "      <th>Tobacco Use_Former Smoker</th>\n",
       "      <th>Tobacco Use_Non Smoker</th>\n",
       "      <th>Tobacco Use_Unknown</th>\n",
       "      <th>Cancer Description_Breast cancer</th>\n",
       "      <th>Cancer Description_Colorectal cancer</th>\n",
       "      <th>...</th>\n",
       "      <th>Cancer Description_Head and neck cancer</th>\n",
       "      <th>Cancer Description_Kidney cancer</th>\n",
       "      <th>Cancer Description_Lung cancer</th>\n",
       "      <th>Cancer Description_Pancreatic cancer</th>\n",
       "      <th>Cancer Description_Prostate cancer</th>\n",
       "      <th>Cancer Description_Thyroid cancer</th>\n",
       "      <th>Cancer Description_Urothelial/bladder cancer</th>\n",
       "      <th>Race/Ethnicity_Non-White</th>\n",
       "      <th>Race/Ethnicity_Unk</th>\n",
       "      <th>Race/Ethnicity_White or Caucasian</th>\n",
       "    </tr>\n",
       "  </thead>\n",
       "  <tbody>\n",
       "    <tr>\n",
       "      <th>2</th>\n",
       "      <td>85</td>\n",
       "      <td>1</td>\n",
       "      <td>2</td>\n",
       "      <td>1</td>\n",
       "      <td>0</td>\n",
       "      <td>0</td>\n",
       "      <td>1</td>\n",
       "      <td>0</td>\n",
       "      <td>0</td>\n",
       "      <td>0</td>\n",
       "      <td>...</td>\n",
       "      <td>0</td>\n",
       "      <td>0</td>\n",
       "      <td>0</td>\n",
       "      <td>0</td>\n",
       "      <td>1</td>\n",
       "      <td>0</td>\n",
       "      <td>0</td>\n",
       "      <td>0</td>\n",
       "      <td>0</td>\n",
       "      <td>1</td>\n",
       "    </tr>\n",
       "    <tr>\n",
       "      <th>4</th>\n",
       "      <td>88</td>\n",
       "      <td>1</td>\n",
       "      <td>2</td>\n",
       "      <td>1</td>\n",
       "      <td>0</td>\n",
       "      <td>0</td>\n",
       "      <td>1</td>\n",
       "      <td>0</td>\n",
       "      <td>0</td>\n",
       "      <td>0</td>\n",
       "      <td>...</td>\n",
       "      <td>0</td>\n",
       "      <td>0</td>\n",
       "      <td>0</td>\n",
       "      <td>0</td>\n",
       "      <td>1</td>\n",
       "      <td>0</td>\n",
       "      <td>0</td>\n",
       "      <td>0</td>\n",
       "      <td>0</td>\n",
       "      <td>1</td>\n",
       "    </tr>\n",
       "    <tr>\n",
       "      <th>5</th>\n",
       "      <td>85</td>\n",
       "      <td>0</td>\n",
       "      <td>6</td>\n",
       "      <td>2</td>\n",
       "      <td>0</td>\n",
       "      <td>1</td>\n",
       "      <td>0</td>\n",
       "      <td>0</td>\n",
       "      <td>0</td>\n",
       "      <td>0</td>\n",
       "      <td>...</td>\n",
       "      <td>0</td>\n",
       "      <td>0</td>\n",
       "      <td>1</td>\n",
       "      <td>0</td>\n",
       "      <td>0</td>\n",
       "      <td>0</td>\n",
       "      <td>0</td>\n",
       "      <td>0</td>\n",
       "      <td>0</td>\n",
       "      <td>1</td>\n",
       "    </tr>\n",
       "    <tr>\n",
       "      <th>7</th>\n",
       "      <td>81</td>\n",
       "      <td>0</td>\n",
       "      <td>6</td>\n",
       "      <td>0</td>\n",
       "      <td>0</td>\n",
       "      <td>1</td>\n",
       "      <td>0</td>\n",
       "      <td>0</td>\n",
       "      <td>1</td>\n",
       "      <td>0</td>\n",
       "      <td>...</td>\n",
       "      <td>0</td>\n",
       "      <td>0</td>\n",
       "      <td>0</td>\n",
       "      <td>0</td>\n",
       "      <td>0</td>\n",
       "      <td>0</td>\n",
       "      <td>0</td>\n",
       "      <td>0</td>\n",
       "      <td>0</td>\n",
       "      <td>1</td>\n",
       "    </tr>\n",
       "    <tr>\n",
       "      <th>10</th>\n",
       "      <td>89</td>\n",
       "      <td>1</td>\n",
       "      <td>6</td>\n",
       "      <td>1</td>\n",
       "      <td>0</td>\n",
       "      <td>1</td>\n",
       "      <td>0</td>\n",
       "      <td>0</td>\n",
       "      <td>0</td>\n",
       "      <td>0</td>\n",
       "      <td>...</td>\n",
       "      <td>0</td>\n",
       "      <td>0</td>\n",
       "      <td>1</td>\n",
       "      <td>0</td>\n",
       "      <td>0</td>\n",
       "      <td>0</td>\n",
       "      <td>0</td>\n",
       "      <td>0</td>\n",
       "      <td>0</td>\n",
       "      <td>1</td>\n",
       "    </tr>\n",
       "  </tbody>\n",
       "</table>\n",
       "<p>5 rows × 22 columns</p>\n",
       "</div>"
      ],
      "text/plain": [
       "    Age  Gender  Stage  RUCA  Tobacco Use_Current Smoker  \\\n",
       "2    85       1      2     1                           0   \n",
       "4    88       1      2     1                           0   \n",
       "5    85       0      6     2                           0   \n",
       "7    81       0      6     0                           0   \n",
       "10   89       1      6     1                           0   \n",
       "\n",
       "    Tobacco Use_Former Smoker  Tobacco Use_Non Smoker  Tobacco Use_Unknown  \\\n",
       "2                           0                       1                    0   \n",
       "4                           0                       1                    0   \n",
       "5                           1                       0                    0   \n",
       "7                           1                       0                    0   \n",
       "10                          1                       0                    0   \n",
       "\n",
       "    Cancer Description_Breast cancer  Cancer Description_Colorectal cancer  \\\n",
       "2                                  0                                     0   \n",
       "4                                  0                                     0   \n",
       "5                                  0                                     0   \n",
       "7                                  1                                     0   \n",
       "10                                 0                                     0   \n",
       "\n",
       "    ...  Cancer Description_Head and neck cancer  \\\n",
       "2   ...                                        0   \n",
       "4   ...                                        0   \n",
       "5   ...                                        0   \n",
       "7   ...                                        0   \n",
       "10  ...                                        0   \n",
       "\n",
       "    Cancer Description_Kidney cancer  Cancer Description_Lung cancer  \\\n",
       "2                                  0                               0   \n",
       "4                                  0                               0   \n",
       "5                                  0                               1   \n",
       "7                                  0                               0   \n",
       "10                                 0                               1   \n",
       "\n",
       "    Cancer Description_Pancreatic cancer  Cancer Description_Prostate cancer  \\\n",
       "2                                      0                                   1   \n",
       "4                                      0                                   1   \n",
       "5                                      0                                   0   \n",
       "7                                      0                                   0   \n",
       "10                                     0                                   0   \n",
       "\n",
       "    Cancer Description_Thyroid cancer  \\\n",
       "2                                   0   \n",
       "4                                   0   \n",
       "5                                   0   \n",
       "7                                   0   \n",
       "10                                  0   \n",
       "\n",
       "    Cancer Description_Urothelial/bladder cancer  Race/Ethnicity_Non-White  \\\n",
       "2                                              0                         0   \n",
       "4                                              0                         0   \n",
       "5                                              0                         0   \n",
       "7                                              0                         0   \n",
       "10                                             0                         0   \n",
       "\n",
       "    Race/Ethnicity_Unk  Race/Ethnicity_White or Caucasian  \n",
       "2                    0                                  1  \n",
       "4                    0                                  1  \n",
       "5                    0                                  1  \n",
       "7                    0                                  1  \n",
       "10                   0                                  1  \n",
       "\n",
       "[5 rows x 22 columns]"
      ]
     },
     "execution_count": 9,
     "metadata": {},
     "output_type": "execute_result"
    }
   ],
   "source": [
    "'''\n",
    "1. Label Encoding for [Stage, Gender]\n",
    "2. One Hot Encoding for [Race/Ethnicity, Tobacco Use, Cancer Description]\n",
    "'''\n",
    "import warnings\n",
    "warnings.filterwarnings(\"ignore\")\n",
    "from sklearn.preprocessing import LabelEncoder\n",
    "\n",
    "features = [\"Age\", \"Gender\", \"Race/Ethnicity\", \"Stage\", \"Tobacco Use\", \"Cancer Description\", \"RUCA\"]\n",
    "X = patdf[features]\n",
    "\n",
    "#Label encoding\n",
    "labelencoder = LabelEncoder()\n",
    "X[\"Stage\"] = labelencoder.fit_transform(X[\"Stage\"])\n",
    "X[\"Gender\"] = labelencoder.fit_transform(X[\"Gender\"])\n",
    "X[\"RUCA\"] = labelencoder.fit_transform(X[\"RUCA\"])\n",
    "\n",
    "#OneHot encoding\n",
    "X = pd.get_dummies(X, columns=[\"Tobacco Use\", \"Cancer Description\", \"Race/Ethnicity\"])\n",
    "\n",
    "X.head()"
   ]
  },
  {
   "cell_type": "code",
   "execution_count": 10,
   "metadata": {},
   "outputs": [
    {
     "data": {
      "image/png": "[encoded data removed]",
      "text/plain": [
       "<Figure size 432x288 with 1 Axes>"
      ]
     },
     "metadata": {
      "needs_background": "light"
     },
     "output_type": "display_data"
    },
    {
     "name": "stdout",
     "output_type": "stream",
     "text": [
      "No     3196\n",
      "Yes     250\n",
      "Name: Clinical Trial Participant, dtype: int64\n"
     ]
    }
   ],
   "source": [
    "'''\n",
    "Visualizing the imbalance in dataset\n",
    "'''\n",
    "labels = [\"Yes\", \"No\"]\n",
    "sizes=[]\n",
    "for res in labels:\n",
    "    sizes.append(patdf[patdf[\"Clinical Trial Participant\"]==res].shape[0])\n",
    "plt.xlabel(\"Clinical Trial Participant\")\n",
    "plt.ylabel(\"Count\")\n",
    "plt.bar(labels,sizes)\n",
    "plt.show()\n",
    "print(patdf[\"Clinical Trial Participant\"].value_counts())"
   ]
  },
  {
   "cell_type": "code",
   "execution_count": 11,
   "metadata": {
    "scrolled": true
   },
   "outputs": [
    {
     "name": "stdout",
     "output_type": "stream",
     "text": [
      "No     3196\n",
      "Yes     250\n",
      "Name: Clinical Trial Participant, dtype: int64\n"
     ]
    }
   ],
   "source": [
    "'''\n",
    "Splitting data into train-test sets.\n",
    "Note: Important to split train/test data before resampling\n",
    "'''\n",
    "from sklearn.model_selection import train_test_split\n",
    "warnings.filterwarnings(\"ignore\")\n",
    "\n",
    "y = patdf[[\"Clinical Trial Participant\"]]\n",
    "y[\"Clinical Trial Participant\"] = y[\"Clinical Trial Participant\"].astype(\"category\")\n",
    "print(y[\"Clinical Trial Participant\"].value_counts())\n",
    "\n",
    "\n",
    "#Split train/test data\n",
    "X_train, X_test, y_train, y_test = train_test_split(X, y, test_size=0.2)\n"
   ]
  },
  {
   "cell_type": "code",
   "execution_count": 12,
   "metadata": {},
   "outputs": [
    {
     "name": "stdout",
     "output_type": "stream",
     "text": [
      "(2557, 23)\n",
      "(199, 23)\n",
      "Yes    2557\n",
      "No     2557\n",
      "Name: Clinical Trial Participant, dtype: int64\n"
     ]
    }
   ],
   "source": [
    "\"\"\"\n",
    "Dealing with imbalanced data: \n",
    "Random oversampling of minority class, i.e CTP = \"Yes\"\n",
    "\"\"\"\n",
    "from sklearn.utils import resample\n",
    "\n",
    "#Concatenate training data \n",
    "X = pd.concat([X_train, y_train], axis=1)\n",
    "\n",
    "#Separate majority & minority classes\n",
    "no_CTP = X[X[\"Clinical Trial Participant\"]==\"No\"]\n",
    "yes_CTP = X[X[\"Clinical Trial Participant\"]==\"Yes\"]\n",
    "\n",
    "print(no_CTP.shape)\n",
    "print(yes_CTP.shape)\n",
    "\n",
    "#Upsample minority class\n",
    "CTP_upsampled = resample(yes_CTP,\n",
    "                         replace=True, #Sample with replacement\n",
    "                         n_samples= (len(no_CTP)), #Match the majority class\n",
    "                         random_state=100)\n",
    "\n",
    "#Concatenate majority and upsampled minority\n",
    "upsampled = pd.concat([no_CTP, CTP_upsampled])\n",
    "\n",
    "print(upsampled[\"Clinical Trial Participant\"].value_counts())"
   ]
  },
  {
   "cell_type": "markdown",
   "metadata": {},
   "source": [
    "### Classification using Random Forests"
   ]
  },
  {
   "cell_type": "code",
   "execution_count": 13,
   "metadata": {},
   "outputs": [
    {
     "name": "stdout",
     "output_type": "stream",
     "text": [
      "Accuracy: 0.8840579710144928\n",
      "Recall:  0.1568627450980392\n",
      "Precision: 0.17777777777777778\n",
      "F1 Score: 0.16666666666666666\n"
     ]
    },
    {
     "data": {
      "text/plain": [
       "<sklearn.metrics._plot.confusion_matrix.ConfusionMatrixDisplay at 0x207bb70be48>"
      ]
     },
     "execution_count": 13,
     "metadata": {},
     "output_type": "execute_result"
    },
    {
     "data": {
      "image/png": "[encoded data removed]",
      "text/plain": [
       "<Figure size 432x288 with 2 Axes>"
      ]
     },
     "metadata": {
      "needs_background": "light"
     },
     "output_type": "display_data"
    }
   ],
   "source": [
    "\"\"\"\n",
    "Classification using RandomForestClassifier\n",
    "\"\"\"\n",
    "from sklearn.ensemble import RandomForestClassifier\n",
    "\n",
    "y_train = upsampled[\"Clinical Trial Participant\"]\n",
    "X_train = upsampled.drop('Clinical Trial Participant', axis=1)\n",
    "\n",
    "clf = RandomForestClassifier(n_estimators=100)\n",
    "clf.fit(X_train,y_train)\n",
    "y_pred=clf.predict(X_test)\n",
    "\n",
    "\n",
    "'''\n",
    "Look at different metrics to evaluate model\n",
    "'''\n",
    "from sklearn import metrics\n",
    "print(\"Accuracy:\", metrics.accuracy_score(y_test, y_pred))\n",
    "print(\"Recall: \", metrics.recall_score(y_test, y_pred, pos_label = \"Yes\"))\n",
    "print(\"Precision:\", metrics.precision_score(y_test,y_pred, pos_label = 'Yes'))\n",
    "print(\"F1 Score:\",metrics.f1_score(y_test,y_pred, pos_label=\"Yes\"))\n",
    "metrics.confusion_matrix(y_test,y_pred, labels=[\"Yes\", \"No\"])\n",
    "\n",
    "\n",
    "'''\n",
    "Confusion Matrix\n",
    "'''\n",
    "from sklearn.metrics import plot_confusion_matrix\n",
    "plot_confusion_matrix(clf, X_test, y_test, cmap=plt.cm.Blues, normalize='true')\n"
   ]
  },
  {
   "cell_type": "code",
   "execution_count": 14,
   "metadata": {},
   "outputs": [
    {
     "data": {
      "text/plain": [
       "<matplotlib.axes._subplots.AxesSubplot at 0x207bb7f0d88>"
      ]
     },
     "execution_count": 14,
     "metadata": {},
     "output_type": "execute_result"
    },
    {
     "data": {
      "image/png": "[encoded data removed]",
      "text/plain": [
       "<Figure size 432x288 with 1 Axes>"
      ]
     },
     "metadata": {
      "needs_background": "light"
     },
     "output_type": "display_data"
    }
   ],
   "source": [
    "'''\n",
    "Plotting Feature Importances\n",
    "'''\n",
    "feature_imp = pd.Series(clf.feature_importances_, index=X_train.columns).sort_values(ascending=False)\n",
    "plt.xlabel(\"Feature Importance\")\n",
    "feature_imp.nlargest(6).plot(kind='barh')\n"
   ]
  },
  {
   "cell_type": "markdown",
   "metadata": {},
   "source": [
    "### Classification using SVM"
   ]
  },
  {
   "cell_type": "code",
   "execution_count": 15,
   "metadata": {},
   "outputs": [
    {
     "name": "stdout",
     "output_type": "stream",
     "text": [
      "Accuracy: 0.6884057971014492\n",
      "Recall:  0.47058823529411764\n",
      "Precision: 0.11320754716981132\n"
     ]
    },
    {
     "data": {
      "text/plain": [
       "<sklearn.metrics._plot.confusion_matrix.ConfusionMatrixDisplay at 0x207bb88c748>"
      ]
     },
     "execution_count": 15,
     "metadata": {},
     "output_type": "execute_result"
    },
    {
     "data": {
      "image/png": "[encoded data removed]",
      "text/plain": [
       "<Figure size 432x288 with 2 Axes>"
      ]
     },
     "metadata": {
      "needs_background": "light"
     },
     "output_type": "display_data"
    }
   ],
   "source": [
    "\"\"\"\n",
    "Classification using SVM\n",
    "\"\"\"\n",
    "\n",
    "from sklearn.model_selection import train_test_split\n",
    "from sklearn import preprocessing\n",
    "from sklearn.svm import SVC\n",
    "from sklearn.metrics import accuracy_score\n",
    "\n",
    "classifier=SVC(kernel ='linear', C=1, gamma=1, probability=True)\n",
    "classifier.fit(X_train, y_train)\n",
    "y_pred= classifier.predict(X_test)\n",
    "\n",
    "\n",
    "'''\n",
    "Look at different metrics to evaluate model\n",
    "'''\n",
    "from sklearn import metrics\n",
    "print(\"Accuracy:\", metrics.accuracy_score(y_test, y_pred))\n",
    "print(\"Recall: \", metrics.recall_score(y_test, y_pred, pos_label = \"Yes\"))\n",
    "print(\"Precision:\", metrics.precision_score(y_test,y_pred, pos_label = 'Yes'))\n",
    "metrics.confusion_matrix(y_test,y_pred, labels=[\"Yes\", \"No\"])\n",
    "\n",
    "'''\n",
    "Confusion Matrix\n",
    "'''\n",
    "from sklearn.metrics import plot_confusion_matrix\n",
    "plot_confusion_matrix(classifier, X_test, y_test, cmap=plt.cm.Blues, normalize='true')\n"
   ]
  },
  {
   "cell_type": "markdown",
   "metadata": {},
   "source": [
    "### Classification using Logistic Regression"
   ]
  },
  {
   "cell_type": "code",
   "execution_count": 16,
   "metadata": {},
   "outputs": [
    {
     "name": "stdout",
     "output_type": "stream",
     "text": [
      "Accuracy: 0.6144927536231884\n",
      "Recall:  0.5098039215686274\n",
      "Precision: 0.09737827715355805\n",
      "F1 Score: 0.16352201257861637\n"
     ]
    },
    {
     "data": {
      "text/plain": [
       "<sklearn.metrics._plot.confusion_matrix.ConfusionMatrixDisplay at 0x207c2805448>"
      ]
     },
     "execution_count": 16,
     "metadata": {},
     "output_type": "execute_result"
    },
    {
     "data": {
      "image/png": "[encoded data removed]",
      "text/plain": [
       "<Figure size 432x288 with 2 Axes>"
      ]
     },
     "metadata": {
      "needs_background": "light"
     },
     "output_type": "display_data"
    }
   ],
   "source": [
    "\"\"\"\n",
    "Classification using Logistic Regression\n",
    "\"\"\"\n",
    "\n",
    "from sklearn.linear_model import LogisticRegression\n",
    "logisticRegr = LogisticRegression(max_iter=400)\n",
    "res = logisticRegr.fit(X_train, y_train)\n",
    "y_pred = logisticRegr.predict(X_test)\n",
    "\n",
    "\n",
    "\"\"\"\n",
    "Different metrics to evaluate classifiers\n",
    "\"\"\"\n",
    "from sklearn import metrics\n",
    "print(\"Accuracy:\", metrics.accuracy_score(y_test, y_pred))\n",
    "print(\"Recall: \", metrics.recall_score(y_test, y_pred, pos_label = \"Yes\"))\n",
    "print(\"Precision:\", metrics.precision_score(y_test,y_pred, pos_label = 'Yes'))\n",
    "print(\"F1 Score:\",metrics.f1_score(y_test,y_pred, pos_label=\"Yes\"))\n",
    "\n",
    "\"\"\"\n",
    "Confusion Matrix\n",
    "\"\"\"\n",
    "from sklearn.metrics import plot_confusion_matrix\n",
    "plot_confusion_matrix(logisticRegr, X_test, y_test, cmap=plt.cm.Blues, normalize='true')"
   ]
  },
  {
   "cell_type": "markdown",
   "metadata": {},
   "source": [
    "### Plotting ROC curve"
   ]
  },
  {
   "cell_type": "code",
   "execution_count": 17,
   "metadata": {},
   "outputs": [
    {
     "name": "stdout",
     "output_type": "stream",
     "text": [
      "No Skill: ROC AUC=0.500\n",
      "Logistic: ROC AUC=0.602\n",
      "Random Forest: ROC AUC=0.608\n",
      "SVM: ROC AUC=0.606\n"
     ]
    },
    {
     "data": {
      "image/png": "[encoded data removed]",
      "text/plain": [
       "<Figure size 432x288 with 1 Axes>"
      ]
     },
     "metadata": {
      "needs_background": "light"
     },
     "output_type": "display_data"
    }
   ],
   "source": [
    "\"\"\"\n",
    "Plotting ROC curve for logistic regression\n",
    "Reference: https://machinelearningmastery.com/roc-curves-and-precision-recall-curves-for-classification-in-python/\n",
    "\"\"\"\n",
    "from sklearn.metrics import roc_curve\n",
    "from sklearn.metrics import roc_auc_score\n",
    "\n",
    "# generate a no skill prediction (majority class)\n",
    "ns_probs = [0 for _ in range(len(y_test))]\n",
    "\n",
    "# predict probabilities\n",
    "lr_probs = logisticRegr.predict_proba(X_test)\n",
    "rf_probs = clf.predict_proba(X_test)\n",
    "svm_probs = classifier.predict_proba(X_test)\n",
    "\n",
    "#keep probabilities for the positive (\"Yes\") outcome only\n",
    "lr_probs = lr_probs[:, 1]\n",
    "rf_probs = rf_probs[:, 1]\n",
    "svm_probs = svm_probs[:, 1]\n",
    "\n",
    "\n",
    "# calculate scores\n",
    "ns_auc = roc_auc_score(y_test, ns_probs)\n",
    "lr_auc = roc_auc_score(y_test, lr_probs)\n",
    "rf_auc = roc_auc_score(y_test, rf_probs)\n",
    "svm_auc = roc_auc_score(y_test, svm_probs)\n",
    "\n",
    "# summarize scores\n",
    "print('No Skill: ROC AUC=%.3f' % (ns_auc))\n",
    "print('Logistic: ROC AUC=%.3f' % (lr_auc))\n",
    "print('Random Forest: ROC AUC=%.3f' % (rf_auc))\n",
    "print('SVM: ROC AUC=%.3f' % (svm_auc))\n",
    "\n",
    "\n",
    "# calculate roc curves\n",
    "ns_fpr, ns_tpr, _ = roc_curve(y_test, ns_probs, pos_label=\"Yes\")\n",
    "lr_fpr, lr_tpr, _ = roc_curve(y_test, lr_probs, pos_label = \"Yes\")\n",
    "rf_fpr, rf_tpr, _ = roc_curve(y_test, rf_probs, pos_label = \"Yes\")\n",
    "svm_fpr, svm_tpr, _ = roc_curve(y_test, svm_probs, pos_label = \"Yes\")\n",
    "\n",
    "\n",
    "# plot the roc curve for the model\n",
    "plt.plot(ns_fpr, ns_tpr, linestyle='--', label='Random')\n",
    "plt.plot(lr_fpr, lr_tpr, marker='.', label='Logistic')\n",
    "plt.plot(rf_fpr, rf_tpr, marker='.', label='Random Forest')\n",
    "plt.plot(svm_fpr, svm_tpr, marker='.', label='SVM')\n",
    "\n",
    "# axis labels\n",
    "plt.title(\"ROC\")\n",
    "plt.xlabel('False Positive Rate')\n",
    "plt.ylabel('True Positive Rate')\n",
    "# show the legend\n",
    "plt.legend()\n",
    "# show the plot\n",
    "plt.show()"
   ]
  },
  {
   "cell_type": "markdown",
   "metadata": {},
   "source": [
    "## Frequent Itemset Mining"
   ]
  },
  {
   "cell_type": "code",
   "execution_count": 18,
   "metadata": {},
   "outputs": [
    {
     "data": {
      "text/html": [
       "<div>\n",
       "<style scoped>\n",
       "    .dataframe tbody tr th:only-of-type {\n",
       "        vertical-align: middle;\n",
       "    }\n",
       "\n",
       "    .dataframe tbody tr th {\n",
       "        vertical-align: top;\n",
       "    }\n",
       "\n",
       "    .dataframe thead th {\n",
       "        text-align: right;\n",
       "    }\n",
       "</style>\n",
       "<table border=\"1\" class=\"dataframe\">\n",
       "  <thead>\n",
       "    <tr style=\"text-align: right;\">\n",
       "      <th></th>\n",
       "      <th>support</th>\n",
       "      <th>itemsets</th>\n",
       "    </tr>\n",
       "  </thead>\n",
       "  <tbody>\n",
       "    <tr>\n",
       "      <th>0</th>\n",
       "      <td>0.420</td>\n",
       "      <td>(White or Caucasian, Yes, Unknown)</td>\n",
       "    </tr>\n",
       "    <tr>\n",
       "      <th>1</th>\n",
       "      <td>0.440</td>\n",
       "      <td>(White or Caucasian, Yes, Non Smoker)</td>\n",
       "    </tr>\n",
       "    <tr>\n",
       "      <th>2</th>\n",
       "      <td>0.476</td>\n",
       "      <td>(White or Caucasian, Yes, Female)</td>\n",
       "    </tr>\n",
       "    <tr>\n",
       "      <th>3</th>\n",
       "      <td>0.524</td>\n",
       "      <td>(White or Caucasian, Male, Yes)</td>\n",
       "    </tr>\n",
       "    <tr>\n",
       "      <th>4</th>\n",
       "      <td>0.552</td>\n",
       "      <td>(White or Caucasian, Former Smoker, Yes)</td>\n",
       "    </tr>\n",
       "  </tbody>\n",
       "</table>\n",
       "</div>"
      ],
      "text/plain": [
       "   support                                  itemsets\n",
       "0    0.420        (White or Caucasian, Yes, Unknown)\n",
       "1    0.440     (White or Caucasian, Yes, Non Smoker)\n",
       "2    0.476         (White or Caucasian, Yes, Female)\n",
       "3    0.524           (White or Caucasian, Male, Yes)\n",
       "4    0.552  (White or Caucasian, Former Smoker, Yes)"
      ]
     },
     "metadata": {},
     "output_type": "display_data"
    }
   ],
   "source": [
    "\"\"\"\n",
    "Split data into 2 subsets:\n",
    "One that has Records with CTP=Yes and the other with CTP=No.\n",
    "Maximal frequent itemset mining on each of them.\n",
    "Reference: http://rasbt.github.io/mlxtend/user_guide/frequent_patterns/fpmax/\n",
    "This code box outputs the result on the data subset with CTP=Yes\n",
    "\"\"\"\n",
    "from mlxtend.preprocessing import TransactionEncoder\n",
    "yes_CTP = patdf[patdf[\"Clinical Trial Participant\"] == \"Yes\"]\n",
    "datalist = []\n",
    "record = []\n",
    "for index, row in yes_CTP.iterrows():\n",
    "    for col in range(row.size):\n",
    "        record.append(str(row[col]))\n",
    "    datalist.append(record)\n",
    "    record=[]\n",
    "    \n",
    "te = TransactionEncoder()\n",
    "te_ary = te.fit(datalist).transform(datalist)\n",
    "newdf = pd.DataFrame(te_ary, columns=te.columns_)\n",
    "\n",
    "from mlxtend.frequent_patterns import fpmax\n",
    "frequnetitemsets = fpmax(newdf, min_support=0.40, use_colnames=True)\n",
    "\n",
    "display(frequnetitemsets.head())\n"
   ]
  },
  {
   "cell_type": "code",
   "execution_count": 19,
   "metadata": {},
   "outputs": [
    {
     "data": {
      "text/html": [
       "<div>\n",
       "<style scoped>\n",
       "    .dataframe tbody tr th:only-of-type {\n",
       "        vertical-align: middle;\n",
       "    }\n",
       "\n",
       "    .dataframe tbody tr th {\n",
       "        vertical-align: top;\n",
       "    }\n",
       "\n",
       "    .dataframe thead th {\n",
       "        text-align: right;\n",
       "    }\n",
       "</style>\n",
       "<table border=\"1\" class=\"dataframe\">\n",
       "  <thead>\n",
       "    <tr style=\"text-align: right;\">\n",
       "      <th></th>\n",
       "      <th>support</th>\n",
       "      <th>itemsets</th>\n",
       "    </tr>\n",
       "  </thead>\n",
       "  <tbody>\n",
       "    <tr>\n",
       "      <th>0</th>\n",
       "      <td>0.467146</td>\n",
       "      <td>(White or Caucasian, Male, No)</td>\n",
       "    </tr>\n",
       "    <tr>\n",
       "      <th>1</th>\n",
       "      <td>0.532854</td>\n",
       "      <td>(White or Caucasian, No, Female)</td>\n",
       "    </tr>\n",
       "    <tr>\n",
       "      <th>2</th>\n",
       "      <td>0.604193</td>\n",
       "      <td>(White or Caucasian, No, Former Smoker)</td>\n",
       "    </tr>\n",
       "  </tbody>\n",
       "</table>\n",
       "</div>"
      ],
      "text/plain": [
       "    support                                 itemsets\n",
       "0  0.467146           (White or Caucasian, Male, No)\n",
       "1  0.532854         (White or Caucasian, No, Female)\n",
       "2  0.604193  (White or Caucasian, No, Former Smoker)"
      ]
     },
     "metadata": {},
     "output_type": "display_data"
    }
   ],
   "source": [
    "\"\"\"\n",
    "This code box outputs the result on the data subset with CTP=No\n",
    "\"\"\"\n",
    "no_CTP = patdf[patdf[\"Clinical Trial Participant\"] == \"No\"]\n",
    "datalist = []\n",
    "record = []\n",
    "for index, row in no_CTP.iterrows():\n",
    "    for col in range(row.size):\n",
    "        record.append(str(row[col]))\n",
    "    datalist.append(record)\n",
    "    record=[]\n",
    "        \n",
    "te = TransactionEncoder()\n",
    "te_ary = te.fit(datalist).transform(datalist)\n",
    "newdf = pd.DataFrame(te_ary, columns=te.columns_)\n",
    "\n",
    "frequnetitemsets = fpmax(newdf, min_support=0.40, use_colnames=True)\n",
    "display(frequnetitemsets.head())"
   ]
  }
 ],
 "metadata": {
  "kernelspec": {
   "display_name": "Python 3",
   "language": "python",
   "name": "python3"
  },
  "language_info": {
   "codemirror_mode": {
    "name": "ipython",
    "version": 3
   },
   "file_extension": ".py",
   "mimetype": "text/x-python",
   "name": "python",
   "nbconvert_exporter": "python",
   "pygments_lexer": "ipython3",
   "version": "3.7.6"
  }
 },
 "nbformat": 4,
 "nbformat_minor": 4
}
