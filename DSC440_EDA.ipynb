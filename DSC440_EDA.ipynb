{
 "cells": [
  {
   "cell_type": "markdown",
   "metadata": {},
   "source": [
    "## Exploratory Data Analysis"
   ]
  },
  {
   "cell_type": "code",
   "execution_count": 2,
   "metadata": {},
   "outputs": [],
   "source": [
    "import pandas as pd\n",
    "import matplotlib.pyplot as plt"
   ]
  },
  {
   "cell_type": "code",
   "execution_count": 3,
   "metadata": {},
   "outputs": [],
   "source": [
    "df = pd.read_csv(\"NCIProject_eligible_Apr19.csv\")"
   ]
  },
  {
   "cell_type": "markdown",
   "metadata": {},
   "source": [
    "### General Pre-Processing"
   ]
  },
  {
   "cell_type": "code",
   "execution_count": 4,
   "metadata": {},
   "outputs": [
    {
     "name": "stdout",
     "output_type": "stream",
     "text": [
      "Zipcode-Cancer data shape before removing missing values: (10846, 7)\n",
      "Data shape after removing NaNs: (7247, 7)\n",
      "Data shape after removing Duplicates: (279, 7)\n"
     ]
    },
    {
     "data": {
      "text/html": [
       "<div>\n",
       "<style scoped>\n",
       "    .dataframe tbody tr th:only-of-type {\n",
       "        vertical-align: middle;\n",
       "    }\n",
       "\n",
       "    .dataframe tbody tr th {\n",
       "        vertical-align: top;\n",
       "    }\n",
       "\n",
       "    .dataframe thead th {\n",
       "        text-align: right;\n",
       "    }\n",
       "</style>\n",
       "<table border=\"1\" class=\"dataframe\">\n",
       "  <thead>\n",
       "    <tr style=\"text-align: right;\">\n",
       "      <th></th>\n",
       "      <th>Breast</th>\n",
       "      <th>ColoRectal</th>\n",
       "      <th>Lung</th>\n",
       "      <th>Lymph</th>\n",
       "      <th>Prostate</th>\n",
       "      <th>Urinary</th>\n",
       "    </tr>\n",
       "    <tr>\n",
       "      <th>Zipcode</th>\n",
       "      <th></th>\n",
       "      <th></th>\n",
       "      <th></th>\n",
       "      <th></th>\n",
       "      <th></th>\n",
       "      <th></th>\n",
       "    </tr>\n",
       "  </thead>\n",
       "  <tbody>\n",
       "    <tr>\n",
       "      <td>14512</td>\n",
       "      <td>32.0</td>\n",
       "      <td>21.0</td>\n",
       "      <td>50.0</td>\n",
       "      <td>8.0</td>\n",
       "      <td>40.0</td>\n",
       "      <td>16.0</td>\n",
       "    </tr>\n",
       "    <tr>\n",
       "      <td>14482</td>\n",
       "      <td>24.0</td>\n",
       "      <td>18.0</td>\n",
       "      <td>21.0</td>\n",
       "      <td>5.0</td>\n",
       "      <td>11.0</td>\n",
       "      <td>6.0</td>\n",
       "    </tr>\n",
       "    <tr>\n",
       "      <td>14564</td>\n",
       "      <td>54.0</td>\n",
       "      <td>16.0</td>\n",
       "      <td>38.0</td>\n",
       "      <td>13.0</td>\n",
       "      <td>50.0</td>\n",
       "      <td>14.0</td>\n",
       "    </tr>\n",
       "    <tr>\n",
       "      <td>14414</td>\n",
       "      <td>136.0</td>\n",
       "      <td>69.0</td>\n",
       "      <td>102.0</td>\n",
       "      <td>42.0</td>\n",
       "      <td>152.0</td>\n",
       "      <td>38.0</td>\n",
       "    </tr>\n",
       "    <tr>\n",
       "      <td>14424</td>\n",
       "      <td>200.0</td>\n",
       "      <td>102.0</td>\n",
       "      <td>205.0</td>\n",
       "      <td>63.0</td>\n",
       "      <td>202.0</td>\n",
       "      <td>76.0</td>\n",
       "    </tr>\n",
       "  </tbody>\n",
       "</table>\n",
       "</div>"
      ],
      "text/plain": [
       "         Breast  ColoRectal   Lung  Lymph  Prostate  Urinary\n",
       "Zipcode                                                     \n",
       "14512      32.0        21.0   50.0    8.0      40.0     16.0\n",
       "14482      24.0        18.0   21.0    5.0      11.0      6.0\n",
       "14564      54.0        16.0   38.0   13.0      50.0     14.0\n",
       "14414     136.0        69.0  102.0   42.0     152.0     38.0\n",
       "14424     200.0       102.0  205.0   63.0     202.0     76.0"
      ]
     },
     "execution_count": 4,
     "metadata": {},
     "output_type": "execute_result"
    }
   ],
   "source": [
    "'''\n",
    "1. Separating Zipcode specific cancer data from original dataset.\n",
    "2. Dropping null values.\n",
    "3. Dropping duplicate rows based on zipcode.\n",
    "'''\n",
    "\n",
    "Cancers = [\"Zipcode\", \"Breast\", \"ColoRectal\", \"Lung\", \"Lymph\", \"Prostate\", \"Urinary\"]\n",
    "cancersdf = df[Cancers]\n",
    "print(\"Zipcode-Cancer data shape before removing missing values:\", cancersdf.shape)\n",
    "cancersdf = cancersdf.dropna()\n",
    "print(\"Data shape after removing NaNs:\", cancersdf.shape)\n",
    "\n",
    "'''\n",
    "Dropping Duplicates (Based on Zipcode) from Zipcode-Cancer data\n",
    "'''\n",
    "cancersdf = cancersdf.drop_duplicates([\"Zipcode\"])\n",
    "print(\"Data shape after removing Duplicates:\", cancersdf.shape)\n",
    "cancersdf = cancersdf.set_index(\"Zipcode\")\n",
    "cancersdf.head()"
   ]
  },
  {
   "cell_type": "code",
   "execution_count": 5,
   "metadata": {},
   "outputs": [],
   "source": [
    "'''\n",
    "Separating Patients Data from original dataset.\n",
    "'''\n",
    "#Drop cancer incidence columns\n",
    "patientsdf = df.drop([\"Breast\", \"ColoRectal\", \"Lung\", \"Lymph\", \"Prostate\",\n",
    "                     \"Urinary\"], axis=1)\n",
    "#Rename column\n",
    "patientsdf = patientsdf.rename(columns={\"CensusTract\":\"Census Tract\"})\n",
    "\n",
    "#Cleaning zip code data\n",
    "patientsdf[\"Zipcode\"] = patientsdf[\"Zipcode\"].str[:5]\n"
   ]
  },
  {
   "cell_type": "code",
   "execution_count": 6,
   "metadata": {},
   "outputs": [
    {
     "name": "stdout",
     "output_type": "stream",
     "text": [
      "Values for Gender:  ['Male' 'Female']\n",
      "Number of rows with missing values for Gender (0, 16)\n",
      "Data shape after removing erroneous and missing values for Gender: (10846, 16)\n",
      "\n",
      "\n",
      "Values for Race: ['White or Caucasian' 'African American'\n",
      " 'American Indian or Alaskan Native' 'Other' 'Asian' 'Unk ' 'Unk'\n",
      " 'Native Hawaiian or Other Pacific Islander'\n",
      " 'American Indian or Alaska Native']\n",
      "Shape of data that contains missing values for Addresses:  (0, 16)\n",
      "Shape of data that contains missing values for City:  (0, 16)\n",
      "Shape of data that contains missing values for Zipcode:  (0, 16)\n",
      "Shape of data that contains missing values for PrimarySiteTitle:  (305, 16)\n",
      "Shape of data that contains missing values for Cancer Diagnosis:  (0, 16)\n",
      "Shape of data that contains missing values for Stage:  (3980, 16)\n",
      "Shape of data that contains missing values for Last Site Visited:  (0, 16)\n",
      "Shape of data that contains missing values for Tobacco Use:  (26, 16)\n",
      "Number of unique MRN's:  8656\n",
      "Shape before removing duplicates (10846, 16)\n",
      "Shape after removing duplicates (9145, 14)\n"
     ]
    }
   ],
   "source": [
    "'''\n",
    "Cleaning Patient Dataset:\n",
    "1. \n",
    "2. Analyzing values for categorical attributes.\n",
    "3. Dealing with missing values.\n",
    "4. Dealing with duplicate rows.\n",
    "'''\n",
    "\n",
    "#Looking at Gender data\n",
    "print(\"Values for Gender: \", patientsdf[\"Gender\"].unique())\n",
    "print(\"Number of rows with missing values for Gender\", patientsdf[patientsdf[\"Gender\"].isna()==True].shape)\n",
    "patientsdf = patientsdf[patientsdf[\"Gender\"].isna()==False]\n",
    "patientsdf = patientsdf[patientsdf[\"Gender\"]!=\"5\"]\n",
    "print(\"Data shape after removing erroneous and missing values for Gender:\",patientsdf.shape)\n",
    "\n",
    "print(\"\\n\")\n",
    "\n",
    "#Looking at Race data\n",
    "print(\"Values for Race:\", patientsdf[\"Race/Ethnicity\"].unique())\n",
    "patientsdf = patientsdf.replace(to_replace=[\"Unk \"],value=\"Unk\")\n",
    "\n",
    "#How should we handle other missing values for other variables? Remove them?\n",
    "print(\"Shape of data that contains missing values for Addresses: \", patientsdf[patientsdf[\"Address\"].isna()==True].shape)\n",
    "print(\"Shape of data that contains missing values for City: \", patientsdf[patientsdf[\"City\"].isna()==True].shape)\n",
    "print(\"Shape of data that contains missing values for Zipcode: \", patientsdf[patientsdf[\"Zipcode\"].isna()==True].shape)\n",
    "print(\"Shape of data that contains missing values for PrimarySiteTitle: \", patientsdf[patientsdf[\"PrimarySiteTitle\"].isna()==True].shape)\n",
    "print(\"Shape of data that contains missing values for Cancer Diagnosis: \", patientsdf[patientsdf[\"Cancer Diagnosis (ICD-10)\"].isna()==True].shape)\n",
    "print(\"Shape of data that contains missing values for Stage: \", patientsdf[patientsdf[\"Stage\"].isna()==True].shape)\n",
    "print(\"Shape of data that contains missing values for Last Site Visited: \", patientsdf[patientsdf[\"Last Site Visited\"].isna()==True].shape)\n",
    "print(\"Shape of data that contains missing values for Tobacco Use: \", patientsdf[patientsdf[\"Tobacco Use\"].isna()==True].shape)\n",
    "\n",
    "#look at number of unique MRN's\n",
    "print(\"Number of unique MRN's: \", patientsdf['MRN'].nunique())\n",
    "\n",
    "#Dropping duplicates\n",
    "print(\"Shape before removing duplicates\", patientsdf.shape)\n",
    "\n",
    "\n",
    "#we can drop these columns as they don't contribute much to analyses\n",
    "patientsdf = patientsdf.drop(columns=['PrimarySiteTitle', 'Last Site Visited'])\n",
    "patientsdf = patientsdf.drop_duplicates()\n",
    "print(\"Shape after removing duplicates\", patientsdf.shape)\n",
    "\n",
    "#Filling missing values for tobacco use\n",
    "patientsdf =  patientsdf.fillna({\"Tobacco Use\":\"Unknown\"})\n",
    "\n",
    "#Filling missing values for Stage\n",
    "patientsdf =  patientsdf.fillna({\"Stage\":\"Unknown\"})\n",
    "\n",
    "#Filling missing values for Cancer Diagnosis\n",
    "patientsdf =  patientsdf.fillna({\"Cancer Diagnosis\":\"Unknown\"})\n",
    "\n",
    "#Filling missing values for Address/city/zipcode\n",
    "patientsdf =  patientsdf.fillna({\"Address\":\"Unknown\"})\n",
    "patientsdf =  patientsdf.fillna({\"City\":\"Unknown\"})\n",
    "patientsdf =  patientsdf.fillna({\"Zipcode\":\"Unknown\"})\n",
    "\n",
    "#patientsdf.head()"
   ]
  },
  {
   "cell_type": "code",
   "execution_count": 7,
   "metadata": {},
   "outputs": [
    {
     "name": "stdout",
     "output_type": "stream",
     "text": [
      "Stage values before discretization:\n",
      "['c1E' 'Unknown' 'c2C' 'pNA' 'c4B' 'c3' 'c1B' 'p4B' 'p2A' 'c1' 'p0' 'p1A'\n",
      " 'c0' 'p4C' 'c1A' 'c2A' 'p2B' 'p2C' 'p3' 'c2B' 'c4' 'pUNK' 'c2' 'c4A' '3'\n",
      " 'p1B' 'p1A3' 'c1A3' 'p1' 'p1C' 'p1A2' 'p4' 'c3B' 'p3B' 'p3C1' 'c3A'\n",
      " 'IIIA' 'p2' 'IVB' 'IV' 'p3C' 'II' 'IIA' 'c0a' 'IIIB' 'IVA' 'p3A' '4'\n",
      " 'c3C' 'p1A1' 'c2E' 'p4A' 'c1A2' '0' '2' 'IIIC' '1' 'IIC' 'IB' 'p0a' 'I'\n",
      " 'III' 'c4A2' 'p3D' 'IIB' 'p1B1' 'IVC' 'IA' 'c1A1' 'c3A2' 'p3A1' 'c1B1'\n",
      " 'c4C' 'p3C2' 'p1E' 'Limited' 'p3A2' 'IE' 'c2A1' 'c3C1']\n",
      "Stage values after discretization:\n",
      "['1' 'Unknown' '2' '4' '3' '0' 'Limited']\n"
     ]
    }
   ],
   "source": [
    "'''\n",
    "Function that discretizes stage column to [0,1,2,3,4]\n",
    "'''\n",
    "print(\"Stage values before discretization:\")\n",
    "print(patientsdf[\"Stage\"].unique())\n",
    "\n",
    "def discretize(dataframe, index):\n",
    "    strlist = list(dataframe.loc[index,\"Stage\"])\n",
    "    \n",
    "    if(strlist[0]==\"I\" and len(strlist)==1):\n",
    "        dataframe.loc[index,\"Stage\"]=\"1\"\n",
    "        \n",
    "    elif(strlist[0]!=\"I\" and len(strlist)>=2):\n",
    "        if strlist[1]==\"1\":\n",
    "            dataframe.loc[index,\"Stage\"]=\"1\"\n",
    "        elif strlist[1]==\"2\":\n",
    "            dataframe.loc[index,\"Stage\"]=\"2\" \n",
    "        elif strlist[1]==\"3\":\n",
    "            dataframe.loc[index,\"Stage\"]=\"3\"\n",
    "        elif strlist[1]==\"4\":\n",
    "            dataframe.loc[index,\"Stage\"]=\"4\"\n",
    "        elif strlist[1]==\"0\":\n",
    "            dataframe.loc[index,\"Stage\"]=\"0\"\n",
    "\n",
    "    elif(strlist[0]==\"I\"):\n",
    "        if(len(strlist)==2):\n",
    "            if strlist[1]==\"I\":\n",
    "                dataframe.loc[index,\"Stage\"]=\"2\"\n",
    "            elif strlist[1]==\"V\":\n",
    "                dataframe.loc[index,\"Stage\"]=\"4\"\n",
    "            else:\n",
    "                dataframe.loc[index,\"Stage\"]=\"1\"\n",
    "        elif(len(strlist)>2):\n",
    "            if strlist[1]==\"V\":\n",
    "                dataframe.loc[index,\"Stage\"]=\"4\"\n",
    "            elif strlist[1]==\"I\" and strlist[2]==\"I\":\n",
    "                dataframe.loc[index,\"Stage\"]=\"3\"\n",
    "            elif strlist[1]==\"I\":\n",
    "                dataframe.loc[index,\"Stage\"]=\"2\" \n",
    "                \n",
    "    str1 = str(dataframe.loc[index,\"Stage\"])\n",
    "    if(str1==\"Extensive\"):\n",
    "        dataframe.loc[index,\"Stage\"]=\"4\"\n",
    "    elif(str1==\"pNA\" or str1 == \"pUNK\"):\n",
    "        dataframe.loc[index,\"Stage\"]=\"Unknown\"\n",
    "\n",
    "        \n",
    "#Discretizing\n",
    "for index,row in patientsdf.iterrows():\n",
    "    discretize(patientsdf,index)\n",
    "\n",
    "print(\"Stage values after discretization:\")\n",
    "print(patientsdf[\"Stage\"].unique())\n"
   ]
  },
  {
   "cell_type": "code",
   "execution_count": 8,
   "metadata": {
    "scrolled": true
   },
   "outputs": [
    {
     "data": {
      "text/plain": [
       "'Map: '"
      ]
     },
     "metadata": {},
     "output_type": "display_data"
    },
    {
     "data": {
      "text/plain": [
       "{'C00': 'Head and neck cancer',\n",
       " 'C01': 'Head and neck cancer',\n",
       " 'C02': 'Head and neck cancer',\n",
       " 'C03': 'Head and neck cancer',\n",
       " 'C04': 'Head and neck cancer',\n",
       " 'C05': 'Head and neck cancer',\n",
       " 'C06': 'Head and neck cancer',\n",
       " 'C07': 'Head and neck cancer',\n",
       " 'C08': 'Head and neck cancer',\n",
       " 'C09': 'Head and neck cancer',\n",
       " 'C10': 'Head and neck cancer',\n",
       " 'C11': 'Head and neck cancer',\n",
       " 'C12': 'Head and neck cancer',\n",
       " 'C13': 'Head and neck cancer',\n",
       " 'C14': 'Head and neck cancer',\n",
       " 'C15': 'Esophageal cancer',\n",
       " 'C16': 'Gastric cancer',\n",
       " 'C17': 'Small bowel cancer',\n",
       " 'C18': 'Colorectal cancer',\n",
       " 'C19': 'Colorectal cancer',\n",
       " 'C20': 'Colorectal cancer',\n",
       " 'C21': 'Anal cancer',\n",
       " 'C22': 'Liver cancer',\n",
       " 'C23': 'Cholangiocarcinoma',\n",
       " 'C24': 'Cholangiocarcinoma',\n",
       " 'C25': 'Pancreatic cancer',\n",
       " 'C26': 'Other abdominal cancer',\n",
       " 'C30': 'Head and neck cancer',\n",
       " 'C31': 'Head and neck cancer',\n",
       " 'C32': 'Head and neck cancer',\n",
       " 'C33': 'Head and neck cancer',\n",
       " 'C34': 'Lung cancer',\n",
       " 'C37': 'Thymus cancer',\n",
       " 'C38': 'Cancer of mediastinum',\n",
       " 'C39': 'Lung cancer',\n",
       " 'C40': 'Primary bone cancer',\n",
       " 'C41': 'Primary bone cancer',\n",
       " 'C42': 'Unspecified cancer',\n",
       " 'C43': 'Melanoma',\n",
       " 'C44': 'Non-melanoma skin cancer',\n",
       " 'C45': 'Mesothelioma',\n",
       " 'C46': \"Kaposi's sarcoma\",\n",
       " 'C47': 'Peripheral nerve malignancy',\n",
       " 'C48': 'Primary peritoneal cancer',\n",
       " 'C49': 'Sarcoma',\n",
       " 'C4A': 'Merkel cell carcinoma',\n",
       " 'C50': 'Breast cancer',\n",
       " 'C51': 'Vulvar or vaginal cancer',\n",
       " 'C52': 'Vulvar or vaginal cancer',\n",
       " 'C53': 'Cervical cancer',\n",
       " 'C54': 'Endometrial cancer',\n",
       " 'C55': 'Endometrial cancer',\n",
       " 'C56': 'Ovarian cancer',\n",
       " 'C57': 'Other female GU cancer',\n",
       " 'C58': 'Choriocarcinoma',\n",
       " 'C60': 'Penile cancer',\n",
       " 'C61': 'Prostate cancer',\n",
       " 'C62': 'Testicular cancer',\n",
       " 'C63': 'Other male GU cancer',\n",
       " 'C64': 'Kidney cancer',\n",
       " 'C65': 'Kidney cancer',\n",
       " 'C66': 'Urothelial/bladder cancer',\n",
       " 'C67': 'Urothelial/bladder cancer',\n",
       " 'C68': 'Urothelial/bladder cancer',\n",
       " 'C69': 'Ocular cancer',\n",
       " 'C70': 'CNS malignancy',\n",
       " 'C71': 'CNS malignancy',\n",
       " 'C72': 'CNS malignancy',\n",
       " 'C73': 'Thyroid cancer',\n",
       " 'C74': 'Adrenal cancer',\n",
       " 'C75': 'Other endocrine cancer',\n",
       " 'C76': 'Unspecified cancer',\n",
       " 'C77': 'Metastatic cancer',\n",
       " 'C78': 'Metastatic cancer',\n",
       " 'C79': 'Metastatic cancer',\n",
       " 'C7A': 'Neuroendocrine tumor',\n",
       " 'C7B': 'Neuroendocrine tumor',\n",
       " 'C80': 'Unspecified cancer',\n",
       " 'C81': 'Hodgkin lymphoma',\n",
       " 'C82': 'Non-Hodgkin lymphoma',\n",
       " 'C83': 'Non-Hodgkin lymphoma',\n",
       " 'C84': 'Non-Hodgkin lymphoma',\n",
       " 'C85': 'Non-Hodgkin lymphoma',\n",
       " 'C86': 'Non-Hodgkin lymphoma',\n",
       " 'C88': 'Other lymphoma',\n",
       " 'C90': 'Myeloma',\n",
       " 'C91': 'Leukemia',\n",
       " 'C92': 'Leukemia',\n",
       " 'C93': 'Leukemia',\n",
       " 'C94': 'Leukemia',\n",
       " 'C95': 'Leukemia',\n",
       " 'C96': 'Other hematologic malignancy',\n",
       " 'D46': 'MDS'}"
      ]
     },
     "metadata": {},
     "output_type": "display_data"
    }
   ],
   "source": [
    "'''\n",
    "ICD10 Mapping: ICD-10 Codes -> General Cancer Descriptions \n",
    "'''\n",
    "\n",
    "ICD10 = pd.read_csv(\"ICD10map.csv\")\n",
    "ICD10 = ICD10.drop(columns=\"Notes\")\n",
    "ICD10.head()\n",
    "\n",
    "ICD10_Description = dict()\n",
    "\n",
    "#Making a dictionary for ICD10-Cancer Description\n",
    "for index,row in ICD10.iterrows():\n",
    "    key = str(row[0]).strip()\n",
    "    val = row[1]\n",
    "    ICD10_Description[key]=val\n",
    "    \n",
    "display(\"Map: \",ICD10_Description)\n"
   ]
  },
  {
   "cell_type": "code",
   "execution_count": 10,
   "metadata": {
    "scrolled": true
   },
   "outputs": [],
   "source": [
    "'''\n",
    "Adding Cancer Description as a column.\n",
    "Mapping ICD-10 Codes\n",
    "'''\n",
    "for index,row in patientsdf.iterrows():\n",
    "    code = str(row[\"Cancer Diagnosis (ICD-10)\"])\n",
    "    patientsdf.loc[index, \"Cancer Diagnosis (ICD-10)\"] = code[0:3]\n",
    "    patientsdf.loc[index, \"Cancer Description\"] = ICD10_Description.get(code[0:3])\n",
    "    \n",
    "#Replacing missing values\n",
    "patientsdf =  patientsdf.fillna({\"Cancer Description\":\"Unknown\"})\n"
   ]
  },
  {
   "cell_type": "code",
   "execution_count": 11,
   "metadata": {},
   "outputs": [
    {
     "name": "stdout",
     "output_type": "stream",
     "text": [
      "Number of unique MRN's:  8656\n",
      "Shape before removing duplicates (9145, 15)\n",
      "Shape after removing duplicates (9024, 15)\n"
     ]
    }
   ],
   "source": [
    "'''\n",
    "Removing all duplicate MRN values\n",
    "Note: we still have about 360 duplicate MRN's. \n",
    "'''\n",
    "print(\"Number of unique MRN's: \", patientsdf['MRN'].nunique())\n",
    "print(\"Shape before removing duplicates\", patientsdf.shape)\n",
    "patientsdf = patientsdf.drop_duplicates()\n",
    "print(\"Shape after removing duplicates\", patientsdf.shape)\n",
    "\n",
    "\n",
    "#~350 duplicated MRN's on first pass\n",
    "#export to .csv file for manual checks, then re-upload cleaned dataset\n",
    "dupMRN = patientsdf[patientsdf.duplicated([\"MRN\"], keep=False)]\n",
    "dupMRN.to_csv('DuplicateMRN.csv')\n",
    "#After first pass, remaining cases are people with ≥1 cancer diagnosis"
   ]
  },
  {
   "cell_type": "code",
   "execution_count": 12,
   "metadata": {},
   "outputs": [],
   "source": [
    "'''\n",
    "Processing census tract data and joining RUCA codes:\n",
    "1. Converting to standard 6 digits\n",
    "2. Joining with RUCA code dataset\n",
    "'''\n",
    "patientsdf =  patientsdf.fillna({\"Census Tract\":\"999999\", \"County\":\"999\"})\n",
    "patientsdf[\"Census Tract\"] = patientsdf[\"Census Tract\"].astype(int).astype(str)\n",
    "patientsdf[\"County\"] = patientsdf[\"County\"].astype(int).astype(str)\n",
    "patientsdf[\"Census Tract\"] = patientsdf[\"Census Tract\"].apply(lambda x: x.zfill(6))\n",
    "patientsdf[\"County\"] = patientsdf[\"County\"].apply(lambda x: x.zfill(3))\n",
    "patientsdf[\"FIPS\"] = patientsdf[\"County\"] + patientsdf[\"Census Tract\"]\n",
    "\n",
    "rucadf = pd.read_csv(\"RUCANY2010.csv\")\n",
    "rucadf = rucadf[rucadf.columns[2:]]\n",
    "rucadf.columns = [\"County\", \"FIPS\", \"RUCA\", \"Secondary RUCA\", \"Population\", \"Land Area (sq. mi.)\", \n",
    "                  \"Pop. Density\"]\n",
    "rucadf[\"FIPS\"] = rucadf[\"FIPS\"].astype(int).astype(str)\n",
    "rucadf[\"FIPS\"] = rucadf[\"FIPS\"].str[2:]\n",
    "\n",
    "ptsdf = pd.merge(patientsdf, rucadf[[\"FIPS\", \"RUCA\"]], on = \"FIPS\", how=\"left\")\n",
    "ptsdf.to_csv('Patient_withRUCA.csv')\n"
   ]
  },
  {
   "cell_type": "markdown",
   "metadata": {},
   "source": [
    "\n",
    "## Data Visualization"
   ]
  },
  {
   "cell_type": "code",
   "execution_count": 13,
   "metadata": {},
   "outputs": [
    {
     "data": {
      "image/png": "[encoded data removed]",
      "text/plain": [
       "<Figure size 720x720 with 1 Axes>"
      ]
     },
     "metadata": {},
     "output_type": "display_data"
    }
   ],
   "source": [
    "'''\n",
    "Gender data distribution\n",
    "'''\n",
    "\n",
    "sizes = [patientsdf[patientsdf[\"Gender\"]==\"Male\"].shape[0], patientsdf[patientsdf[\"Gender\"]==\"Female\"].shape[0]]\n",
    "labels = \"Male\", \"Female\"\n",
    "explode = (0,0.1)\n",
    "plt.figure(figsize=(10,10))\n",
    "plt.pie(sizes, explode=explode, labels=labels, autopct='%1.1f%%',shadow=True, startangle=90)\n",
    "plt.show()"
   ]
  },
  {
   "cell_type": "code",
   "execution_count": 14,
   "metadata": {},
   "outputs": [
    {
     "data": {
      "image/png": "[encoded data removed]",
      "text/plain": [
       "<Figure size 720x720 with 1 Axes>"
      ]
     },
     "metadata": {},
     "output_type": "display_data"
    }
   ],
   "source": [
    "'''\n",
    "Stage data distribution\n",
    "'''\n",
    "\n",
    "sizes = []\n",
    "labels = [\"0\",\"1\",\"2\",\"3\",\"4\",\"Unknown\"]\n",
    "for stage in labels:\n",
    "    sizes.append(patientsdf[patientsdf[\"Stage\"]==stage].shape[0])\n",
    "    \n",
    "explode = (0,0,0,0,0,0)\n",
    "plt.figure(figsize=(10,10))\n",
    "plt.pie(sizes, explode=explode, labels=labels, autopct='%1.1f%%',shadow=True, startangle=90)\n",
    "plt.show()"
   ]
  },
  {
   "cell_type": "code",
   "execution_count": 16,
   "metadata": {},
   "outputs": [
    {
     "name": "stdout",
     "output_type": "stream",
     "text": [
      "[8695, 130, 61, 16, 35, 2]\n"
     ]
    },
    {
     "data": {
      "image/png": "[encoded data removed]",
      "text/plain": [
       "<Figure size 1440x720 with 1 Axes>"
      ]
     },
     "metadata": {
      "needs_background": "light"
     },
     "output_type": "display_data"
    }
   ],
   "source": [
    "'''\n",
    "Race Data distribution\n",
    "'''\n",
    "\n",
    "sizes = []\n",
    "labels = ['White or Caucasian', 'African American','Other',\n",
    "          'American Indian or Alaskan Native', 'Asian',\n",
    "          'Native Hawaiian or Other Pacific Islander']\n",
    "for race in labels:\n",
    "    sizes.append(patientsdf[patientsdf[\"Race/Ethnicity\"]==race].shape[0])\n",
    "print(sizes)\n",
    "\n",
    "plt.figure(figsize=(20,10))\n",
    "plt.bar(labels,sizes)\n",
    "plt.show()"
   ]
  },
  {
   "cell_type": "code",
   "execution_count": 17,
   "metadata": {},
   "outputs": [
    {
     "name": "stdout",
     "output_type": "stream",
     "text": [
      "[5069, 3699, 93, 163]\n"
     ]
    },
    {
     "data": {
      "image/png": "[encoded data removed]",
      "text/plain": [
       "<Figure size 1440x720 with 1 Axes>"
      ]
     },
     "metadata": {
      "needs_background": "light"
     },
     "output_type": "display_data"
    }
   ],
   "source": [
    "'''\n",
    "Tobacco Use Data distributuion.\n",
    "'''\n",
    "\n",
    "#collapse into 4 categories\n",
    "patientsdf[\"Tobacco Use\"] = patientsdf[\"Tobacco Use\"].replace('Never Smoker', 'Non Smoker')\n",
    "patientsdf[\"Tobacco Use\"] = patientsdf[\"Tobacco Use\"].replace('Current Every Day Smoker', 'Current Smoker')\n",
    "patientsdf[\"Tobacco Use\"] = patientsdf[\"Tobacco Use\"].replace('Current Some Day Smoker', 'Current Smoker')\n",
    "sizes = []\n",
    "labels = ['Former Smoker', 'Non Smoker', 'Current Smoker',\n",
    "          'Unknown',]\n",
    "for smoke in labels:\n",
    "    sizes.append(patientsdf[patientsdf[\"Tobacco Use\"]==smoke].shape[0])\n",
    "print(sizes)\n",
    "plt.figure(figsize=(20,10))\n",
    "plt.bar(labels,sizes)\n",
    "plt.show()"
   ]
  },
  {
   "cell_type": "code",
   "execution_count": 18,
   "metadata": {},
   "outputs": [
    {
     "name": "stdout",
     "output_type": "stream",
     "text": [
      "Median age is:  68.0\n",
      "Mean age is:  66.65436613475177\n",
      "Minumum age is:  18 and maximum age is:  101\n"
     ]
    },
    {
     "data": {
      "text/plain": [
       "Text(0, 0.5, 'Number of people')"
      ]
     },
     "execution_count": 18,
     "metadata": {},
     "output_type": "execute_result"
    },
    {
     "data": {
      "image/png": "[encoded data removed]",
      "text/plain": [
       "<Figure size 432x288 with 1 Axes>"
      ]
     },
     "metadata": {
      "needs_background": "light"
     },
     "output_type": "display_data"
    }
   ],
   "source": [
    "'''\n",
    "Looking at age distribution\n",
    "'''\n",
    "\n",
    "print(\"Median age is: \", patientsdf.Age.median())\n",
    "print(\"Mean age is: \", patientsdf.Age.mean())\n",
    "print(\"Minumum age is: \", patientsdf.Age.min(), \n",
    "      \"and maximum age is: \", patientsdf.Age.max())\n",
    "bins = [*range(15, 105, 2)] \n",
    "plt.hist(patientsdf.Age, bins=bins)\n",
    "plt.xlabel(\"Age in years\")\n",
    "plt.ylabel(\"Number of people\")"
   ]
  },
  {
   "cell_type": "code",
   "execution_count": 19,
   "metadata": {},
   "outputs": [
    {
     "data": {
      "image/png": "[encoded data removed]",
      "text/plain": [
       "<Figure size 1080x720 with 1 Axes>"
      ]
     },
     "metadata": {
      "needs_background": "light"
     },
     "output_type": "display_data"
    }
   ],
   "source": [
    "'''\n",
    "Cancer description data distribution\n",
    "'''\n",
    "\n",
    "dxlist = patientsdf[\"Cancer Description\"].unique()\n",
    "moddxlist = ['Prostate cancer', 'Lung cancer', 'Gastric cancer',\n",
    "       'Breast cancer', 'Metastatic cancer', \n",
    "       'Esophageal cancer', 'Urothelial/bladder cancer',\n",
    "       'Colorectal cancer', 'Head and neck cancer', \n",
    "       'Unspecified cancer', 'Endometrial cancer', 'Thyroid cancer', 'Kidney cancer',\n",
    "       'Ovarian cancer', 'Pancreatic cancer',\n",
    "       'Liver cancer', 'Cholangiocarcinoma', 'Testicular cancer', 'Cervical cancer']\n",
    "\n",
    "modptsdf = patientsdf[patientsdf[\"Cancer Description\"].isin(moddxlist)]\n",
    "cancertypesdf = modptsdf[\"Cancer Description\"].value_counts().sort_values(ascending=True).rename_axis('Cancer Type').reset_index(name='counts')\n",
    "cancertypesdf['Cancer Type'] = cancertypesdf['Cancer Type'].astype(str)\n",
    "cancertypesdf.head()\n",
    "\n",
    "cancertypesdf['Cancer'] = cancertypesdf['Cancer Type'].str.split(' ').str[0]\n",
    "cancertypesdf.head()\n",
    "\n",
    "plt.figure(figsize=(15,10))\n",
    "plt.barh(width=cancertypesdf.counts, y=cancertypesdf.Cancer)\n",
    "plt.xticks(fontsize=14)\n",
    "plt.yticks(fontsize=14)\n",
    "plt.xlabel(\"Number of people\", fontsize=16)\n",
    "plt.show()"
   ]
  },
  {
   "cell_type": "code",
   "execution_count": 20,
   "metadata": {},
   "outputs": [
    {
     "data": {
      "image/png": "[encoded data removed]",
      "text/plain": [
       "<Figure size 1080x720 with 1 Axes>"
      ]
     },
     "metadata": {
      "needs_background": "light"
     },
     "output_type": "display_data"
    }
   ],
   "source": [
    "'''\n",
    "Looking at Geographic Distribution using RUCA codes\n",
    "'''\n",
    "\n",
    "geodf = ptsdf['RUCA'].value_counts().rename_axis('RUCA').reset_index(name='counts')\n",
    "geodf.head()\n",
    "\n",
    "plt.figure(figsize=(15,10))\n",
    "plt.bar(x=geodf.RUCA, height=geodf.counts)\n",
    "plt.xticks(geodf.RUCA, fontsize=14 )\n",
    "plt.ylabel(\"Number of people\", fontsize=14)\n",
    "plt.xlabel(\"RUCA code\", fontsize=14)\n",
    "plt.show()"
   ]
  },
  {
   "cell_type": "code",
   "execution_count": 21,
   "metadata": {},
   "outputs": [],
   "source": [
    "patientsdf.to_csv('PatientData.csv')\n",
    "cancersdf.to_csv('CancerData.csv')"
   ]
  },
  {
   "cell_type": "markdown",
   "metadata": {},
   "source": [
    "### Market Share Analysis"
   ]
  },
  {
   "cell_type": "code",
   "execution_count": 22,
   "metadata": {},
   "outputs": [
    {
     "data": {
      "text/html": [
       "<div>\n",
       "<style scoped>\n",
       "    .dataframe tbody tr th:only-of-type {\n",
       "        vertical-align: middle;\n",
       "    }\n",
       "\n",
       "    .dataframe tbody tr th {\n",
       "        vertical-align: top;\n",
       "    }\n",
       "\n",
       "    .dataframe thead th {\n",
       "        text-align: right;\n",
       "    }\n",
       "</style>\n",
       "<table border=\"1\" class=\"dataframe\">\n",
       "  <thead>\n",
       "    <tr style=\"text-align: right;\">\n",
       "      <th></th>\n",
       "      <th>Breast Incidence</th>\n",
       "      <th>Colorectal Incidence</th>\n",
       "      <th>Lung Incidence</th>\n",
       "      <th>Prostate Incidence</th>\n",
       "      <th>Urinary Incidence</th>\n",
       "      <th>Breast Cases</th>\n",
       "      <th>Colorectal Cases</th>\n",
       "      <th>Lung Cases</th>\n",
       "      <th>Prostate Cases</th>\n",
       "      <th>Urinary Cases</th>\n",
       "      <th>Breast Share</th>\n",
       "      <th>CRC Share</th>\n",
       "      <th>Lung Share</th>\n",
       "      <th>Prostate Share</th>\n",
       "      <th>Urinary Share</th>\n",
       "    </tr>\n",
       "    <tr>\n",
       "      <th>Zipcode</th>\n",
       "      <th></th>\n",
       "      <th></th>\n",
       "      <th></th>\n",
       "      <th></th>\n",
       "      <th></th>\n",
       "      <th></th>\n",
       "      <th></th>\n",
       "      <th></th>\n",
       "      <th></th>\n",
       "      <th></th>\n",
       "      <th></th>\n",
       "      <th></th>\n",
       "      <th></th>\n",
       "      <th></th>\n",
       "      <th></th>\n",
       "    </tr>\n",
       "  </thead>\n",
       "  <tbody>\n",
       "    <tr>\n",
       "      <td>14512</td>\n",
       "      <td>64.0</td>\n",
       "      <td>42.0</td>\n",
       "      <td>100.0</td>\n",
       "      <td>80.0</td>\n",
       "      <td>32.0</td>\n",
       "      <td>32.0</td>\n",
       "      <td>8.0</td>\n",
       "      <td>11.0</td>\n",
       "      <td>14.0</td>\n",
       "      <td>4.0</td>\n",
       "      <td>0.500000</td>\n",
       "      <td>0.190476</td>\n",
       "      <td>0.110000</td>\n",
       "      <td>0.175000</td>\n",
       "      <td>0.125000</td>\n",
       "    </tr>\n",
       "    <tr>\n",
       "      <td>14482</td>\n",
       "      <td>48.0</td>\n",
       "      <td>36.0</td>\n",
       "      <td>42.0</td>\n",
       "      <td>22.0</td>\n",
       "      <td>12.0</td>\n",
       "      <td>30.0</td>\n",
       "      <td>3.0</td>\n",
       "      <td>15.0</td>\n",
       "      <td>15.0</td>\n",
       "      <td>2.0</td>\n",
       "      <td>0.625000</td>\n",
       "      <td>0.083333</td>\n",
       "      <td>0.357143</td>\n",
       "      <td>0.681818</td>\n",
       "      <td>0.166667</td>\n",
       "    </tr>\n",
       "    <tr>\n",
       "      <td>14564</td>\n",
       "      <td>108.0</td>\n",
       "      <td>32.0</td>\n",
       "      <td>76.0</td>\n",
       "      <td>100.0</td>\n",
       "      <td>28.0</td>\n",
       "      <td>76.0</td>\n",
       "      <td>6.0</td>\n",
       "      <td>21.0</td>\n",
       "      <td>35.0</td>\n",
       "      <td>17.0</td>\n",
       "      <td>0.703704</td>\n",
       "      <td>0.187500</td>\n",
       "      <td>0.276316</td>\n",
       "      <td>0.350000</td>\n",
       "      <td>0.607143</td>\n",
       "    </tr>\n",
       "    <tr>\n",
       "      <td>14414</td>\n",
       "      <td>272.0</td>\n",
       "      <td>138.0</td>\n",
       "      <td>204.0</td>\n",
       "      <td>304.0</td>\n",
       "      <td>76.0</td>\n",
       "      <td>34.0</td>\n",
       "      <td>10.0</td>\n",
       "      <td>19.0</td>\n",
       "      <td>20.0</td>\n",
       "      <td>11.0</td>\n",
       "      <td>0.125000</td>\n",
       "      <td>0.072464</td>\n",
       "      <td>0.093137</td>\n",
       "      <td>0.065789</td>\n",
       "      <td>0.144737</td>\n",
       "    </tr>\n",
       "    <tr>\n",
       "      <td>14424</td>\n",
       "      <td>400.0</td>\n",
       "      <td>204.0</td>\n",
       "      <td>410.0</td>\n",
       "      <td>404.0</td>\n",
       "      <td>152.0</td>\n",
       "      <td>165.0</td>\n",
       "      <td>31.0</td>\n",
       "      <td>54.0</td>\n",
       "      <td>90.0</td>\n",
       "      <td>32.0</td>\n",
       "      <td>0.412500</td>\n",
       "      <td>0.151961</td>\n",
       "      <td>0.131707</td>\n",
       "      <td>0.222772</td>\n",
       "      <td>0.210526</td>\n",
       "    </tr>\n",
       "  </tbody>\n",
       "</table>\n",
       "</div>"
      ],
      "text/plain": [
       "         Breast Incidence  Colorectal Incidence  Lung Incidence  \\\n",
       "Zipcode                                                           \n",
       "14512                64.0                  42.0           100.0   \n",
       "14482                48.0                  36.0            42.0   \n",
       "14564               108.0                  32.0            76.0   \n",
       "14414               272.0                 138.0           204.0   \n",
       "14424               400.0                 204.0           410.0   \n",
       "\n",
       "         Prostate Incidence  Urinary Incidence  Breast Cases  \\\n",
       "Zipcode                                                        \n",
       "14512                  80.0               32.0          32.0   \n",
       "14482                  22.0               12.0          30.0   \n",
       "14564                 100.0               28.0          76.0   \n",
       "14414                 304.0               76.0          34.0   \n",
       "14424                 404.0              152.0         165.0   \n",
       "\n",
       "         Colorectal Cases  Lung Cases  Prostate Cases  Urinary Cases  \\\n",
       "Zipcode                                                                \n",
       "14512                 8.0        11.0            14.0            4.0   \n",
       "14482                 3.0        15.0            15.0            2.0   \n",
       "14564                 6.0        21.0            35.0           17.0   \n",
       "14414                10.0        19.0            20.0           11.0   \n",
       "14424                31.0        54.0            90.0           32.0   \n",
       "\n",
       "         Breast Share  CRC Share  Lung Share  Prostate Share  Urinary Share  \n",
       "Zipcode                                                                      \n",
       "14512        0.500000   0.190476    0.110000        0.175000       0.125000  \n",
       "14482        0.625000   0.083333    0.357143        0.681818       0.166667  \n",
       "14564        0.703704   0.187500    0.276316        0.350000       0.607143  \n",
       "14414        0.125000   0.072464    0.093137        0.065789       0.144737  \n",
       "14424        0.412500   0.151961    0.131707        0.222772       0.210526  "
      ]
     },
     "execution_count": 22,
     "metadata": {},
     "output_type": "execute_result"
    }
   ],
   "source": [
    "'''\n",
    "Observed versus Expected Cases Based on Market Share\n",
    "'''\n",
    "\n",
    "#subset out data by diagnosis\n",
    "breastdf = patientsdf[patientsdf[\"Cancer Description\"]=='Breast cancer']\n",
    "colorectaldf = patientsdf[patientsdf[\"Cancer Description\"]=='Colorectal cancer']\n",
    "lungdf = patientsdf[patientsdf[\"Cancer Description\"]=='Lung cancer']\n",
    "prostatedf = patientsdf[patientsdf[\"Cancer Description\"]=='Prostate cancer']\n",
    "urodf = patientsdf[patientsdf[\"Cancer Description\"].isin(['Urothelial/bladder cancer', \n",
    "                                                         'Kidney cancer'])]\n",
    "\n",
    "#aggregate by zipcode\n",
    "breastbyzip = breastdf.groupby(\"Zipcode\").agg('count')\n",
    "crcbyzip = colorectaldf.groupby(\"Zipcode\").agg('count')\n",
    "lungbyzip = lungdf.groupby(\"Zipcode\").agg('count')\n",
    "prostatebyzip = prostatedf.groupby(\"Zipcode\").agg('count')\n",
    "urobyzip = urodf.groupby(\"Zipcode\").agg('count')\n",
    "\n",
    "\n",
    "#Multiply cancersdf values by 2 to get 2-year raw incidence\n",
    "cancers2df = cancersdf.apply(lambda x: x*2)\n",
    "#Drop out lymphoma - we aren't looking at this diagnosis\n",
    "cancers2df = cancers2df.drop(columns = [\"Lymph\"])\n",
    "#Rename columns - these are raw incidence numbers for each zipcode\n",
    "cancers2df = cancers2df.rename(columns = {'Breast' : 'Breast Incidence', 'ColoRectal' : \n",
    "                'Colorectal Incidence', 'Lung' : 'Lung Incidence', 'Prostate': 'Prostate Incidence',\n",
    "                'Urinary' : 'Urinary Incidence'})\n",
    "\n",
    "\n",
    "#Create a table for incidence versus cases \n",
    "mktsharedf = pd.merge(cancers2df, breastbyzip[[\"MRN\"]], left_index = True, right_index = True, how=\"left\")\n",
    "mktsharedf = mktsharedf.rename(columns = {'MRN' : 'Breast Cases'})\n",
    "mktsharedf = pd.merge(mktsharedf, crcbyzip[[\"MRN\"]], left_index = True, right_index = True, how=\"left\")\n",
    "mktsharedf = mktsharedf.rename(columns = {'MRN' : 'Colorectal Cases'})\n",
    "mktsharedf = pd.merge(mktsharedf, lungbyzip[[\"MRN\"]], left_index = True, right_index = True, how=\"left\")\n",
    "mktsharedf = mktsharedf.rename(columns = {'MRN' : 'Lung Cases'})\n",
    "mktsharedf = pd.merge(mktsharedf, prostatebyzip[[\"MRN\"]], left_index = True, right_index = True, how=\"left\")\n",
    "mktsharedf = mktsharedf.rename(columns = {'MRN' : 'Prostate Cases'})\n",
    "mktsharedf = pd.merge(mktsharedf, urobyzip[[\"MRN\"]], left_index = True, right_index = True, how=\"left\")\n",
    "mktsharedf = mktsharedf.rename(columns = {'MRN' : 'Urinary Cases'})\n",
    "\n",
    "#Calculate market share\n",
    "mktsharedf[\"Breast Share\"] = mktsharedf[\"Breast Cases\"] / mktsharedf[\"Breast Incidence\"]\n",
    "mktsharedf[\"CRC Share\"] = mktsharedf[\"Colorectal Cases\"] / mktsharedf[\"Colorectal Incidence\"]\n",
    "mktsharedf[\"Lung Share\"] = mktsharedf[\"Lung Cases\"] / mktsharedf[\"Lung Incidence\"]\n",
    "mktsharedf[\"Prostate Share\"] = mktsharedf[\"Prostate Cases\"] / mktsharedf[\"Prostate Incidence\"]\n",
    "mktsharedf[\"Urinary Share\"] = mktsharedf[\"Urinary Cases\"] / mktsharedf[\"Urinary Incidence\"]\n",
    "\n",
    "\n",
    "mktsharedf.to_csv('MarketShare.csv')\n",
    "mktsharedf.head()\n"
   ]
  }
 ],
 "metadata": {
  "kernelspec": {
   "display_name": "Python 3",
   "language": "python",
   "name": "python3"
  },
  "language_info": {
   "codemirror_mode": {
    "name": "ipython",
    "version": 3
   },
   "file_extension": ".py",
   "mimetype": "text/x-python",
   "name": "python",
   "nbconvert_exporter": "python",
   "pygments_lexer": "ipython3",
   "version": "3.7.4"
  }
 },
 "nbformat": 4,
 "nbformat_minor": 4
}
